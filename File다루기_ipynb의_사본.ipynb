{
  "nbformat": 4,
  "nbformat_minor": 0,
  "metadata": {
    "colab": {
      "name": "File다루기.ipynb의 사본",
      "provenance": [],
      "private_outputs": true,
      "collapsed_sections": [],
      "toc_visible": true,
      "authorship_tag": "ABX9TyOT53L1d64wS/DKj6V8EZJI",
      "include_colab_link": true
    },
    "kernelspec": {
      "name": "python3",
      "display_name": "Python 3"
    }
  },
  "cells": [
    {
      "cell_type": "markdown",
      "metadata": {
        "id": "view-in-github",
        "colab_type": "text"
      },
      "source": [
        "<a href=\"https://colab.research.google.com/github/IsKim0706/GitExample/blob/master/File%EB%8B%A4%EB%A3%A8%EA%B8%B0_ipynb%EC%9D%98_%EC%82%AC%EB%B3%B8.ipynb\" target=\"_parent\"><img src=\"https://colab.research.google.com/assets/colab-badge.svg\" alt=\"Open In Colab\"/></a>"
      ]
    },
    {
      "cell_type": "markdown",
      "metadata": {
        "id": "L9H2dYjz1Hpv",
        "colab_type": "text"
      },
      "source": [
        "# Google Drive Mount"
      ]
    },
    {
      "cell_type": "code",
      "metadata": {
        "id": "IhXjTiLO7XWx",
        "colab_type": "code",
        "colab": {}
      },
      "source": [
        "import tensorflow as tf"
      ],
      "execution_count": null,
      "outputs": []
    },
    {
      "cell_type": "code",
      "metadata": {
        "id": "MqASeSLHTvu1",
        "colab_type": "code",
        "colab": {}
      },
      "source": [
        "from google.colab import drive\n",
        "drive.mount('/content/drive')"
      ],
      "execution_count": null,
      "outputs": []
    },
    {
      "cell_type": "markdown",
      "metadata": {
        "id": "KNyYppB_1KxU",
        "colab_type": "text"
      },
      "source": [
        "# Create download directory on google drive"
      ]
    },
    {
      "cell_type": "code",
      "metadata": {
        "id": "2i0Vs9pMUGkg",
        "colab_type": "code",
        "colab": {}
      },
      "source": [
        "from os import path\n",
        "note_base_dir_on_gdrive = '/content/drive/My Drive/Colab Notebooks'\n",
        "notebook_download_dir = path.join(note_base_dir_on_gdrive ,'./download')\n",
        "\n",
        "if not path.exists(notebook_download_dir):\n",
        "    print('Check your google drive directory. See your file explorer')"
      ],
      "execution_count": null,
      "outputs": []
    },
    {
      "cell_type": "markdown",
      "metadata": {
        "id": "X6oLSqCE2nx8",
        "colab_type": "text"
      },
      "source": [
        "### GDrive에 text 파일 만들기"
      ]
    },
    {
      "cell_type": "code",
      "metadata": {
        "id": "24Kd5HtS0P-H",
        "colab_type": "code",
        "colab": {}
      },
      "source": [
        "with open(path.join(notebook_download_dir, 'myfile0.txt'), \"w\") as f:\n",
        "    f.write(\"Google Colab is good!!!\")"
      ],
      "execution_count": null,
      "outputs": []
    },
    {
      "cell_type": "markdown",
      "metadata": {
        "id": "ESJ8FifT2wJJ",
        "colab_type": "text"
      },
      "source": [
        "### GDrive에 데이터 파일 만들기"
      ]
    },
    {
      "cell_type": "code",
      "metadata": {
        "id": "n0dJsEVz02Wu",
        "colab_type": "code",
        "colab": {}
      },
      "source": [
        "import numpy as np\n",
        "import pandas as pd\n",
        "\n",
        "df = pd.DataFrame(np.random.rand(10, 5))\n",
        "df.to_csv(path.join(notebook_download_dir, './df.csv'))"
      ],
      "execution_count": null,
      "outputs": []
    },
    {
      "cell_type": "code",
      "metadata": {
        "id": "Q8oD4vQh3Y6T",
        "colab_type": "code",
        "colab": {}
      },
      "source": [
        "del df"
      ],
      "execution_count": null,
      "outputs": []
    },
    {
      "cell_type": "code",
      "metadata": {
        "id": "kFBZJJml36k8",
        "colab_type": "code",
        "colab": {}
      },
      "source": [
        "pd.read_csv(path.join(notebook_download_dir, './df.csv'))"
      ],
      "execution_count": null,
      "outputs": []
    },
    {
      "cell_type": "markdown",
      "metadata": {
        "id": "FdcrelJN9x7a",
        "colab_type": "text"
      },
      "source": [
        "### 기타 명령어\n",
        "   "
      ]
    },
    {
      "cell_type": "code",
      "metadata": {
        "id": "HsvKxF6M4QV8",
        "colab_type": "code",
        "colab": {}
      },
      "source": [
        "!ls -la\n",
        "!python --version\n",
        "import tensorflow_hub\n",
        "print((tensorflow_hub.__version__)"
      ],
      "execution_count": null,
      "outputs": []
    },
    {
      "cell_type": "markdown",
      "metadata": {
        "id": "KxhM5hPPLEVi",
        "colab_type": "text"
      },
      "source": [
        " * Directory 이동 명령어 유념"
      ]
    },
    {
      "cell_type": "code",
      "metadata": {
        "id": "v0FfRfuALHzE",
        "colab_type": "code",
        "colab": {}
      },
      "source": [
        "!ls -l\n",
        "%cd Git-Tutorial_Erase/\n",
        "!pwd\n",
        "!ls -l"
      ],
      "execution_count": null,
      "outputs": []
    },
    {
      "cell_type": "markdown",
      "metadata": {
        "id": "YCfT_CsC-F5r",
        "colab_type": "text"
      },
      "source": [
        "# Local FIle 과 연동"
      ]
    },
    {
      "cell_type": "markdown",
      "metadata": {
        "id": "5M_9eV3y-9qq",
        "colab_type": "text"
      },
      "source": [
        "### notebook file 을 코랩에 upload하려면...\n",
        "    * 파일 메뉴 --> 노트 업로드"
      ]
    },
    {
      "cell_type": "markdown",
      "metadata": {
        "id": "t80h2hVN_gXT",
        "colab_type": "text"
      },
      "source": [
        "### 일반 파일 upload"
      ]
    },
    {
      "cell_type": "code",
      "metadata": {
        "id": "k6Ac7pXN7Cnt",
        "colab_type": "code",
        "colab": {}
      },
      "source": [
        "from google.colab import files\n",
        "\n",
        "uploaded = files.upload()\n",
        "\n",
        "for fn in uploaded.keys():\n",
        "    print('User uploaded file \"{name}\" with longth {length} bytes'.format(\n",
        "        name = fn, length = len(uploaded[fn])\n",
        "    ))"
      ],
      "execution_count": null,
      "outputs": []
    },
    {
      "cell_type": "markdown",
      "metadata": {
        "id": "MM9-_t5wBy9A",
        "colab_type": "text"
      },
      "source": [
        "### 일반 파일 Down load"
      ]
    },
    {
      "cell_type": "code",
      "metadata": {
        "id": "pEFz0LnLAcya",
        "colab_type": "code",
        "colab": {}
      },
      "source": [
        "files.download(path.join(notebook_download_dir, './df.csv'))"
      ],
      "execution_count": null,
      "outputs": []
    },
    {
      "cell_type": "markdown",
      "metadata": {
        "id": "YVInjwEtGwIt",
        "colab_type": "text"
      },
      "source": [
        "#  GIT 연동\n"
      ]
    },
    {
      "cell_type": "markdown",
      "metadata": {
        "id": "60RRwbcNG7HO",
        "colab_type": "text"
      },
      "source": [
        "## clone to 코랩"
      ]
    },
    {
      "cell_type": "code",
      "metadata": {
        "id": "vukOYnTEQk35",
        "colab_type": "code",
        "colab": {}
      },
      "source": [
        "!pwd"
      ],
      "execution_count": null,
      "outputs": []
    },
    {
      "cell_type": "code",
      "metadata": {
        "id": "GZRZXwKsB4JM",
        "colab_type": "code",
        "colab": {}
      },
      "source": [
        "!git clone https://github.com/IsKim0706/Git-Tutorial.git"
      ],
      "execution_count": null,
      "outputs": []
    },
    {
      "cell_type": "code",
      "metadata": {
        "id": "DJH5Rra9Hu1x",
        "colab_type": "code",
        "colab": {}
      },
      "source": [
        "!ls -ltr"
      ],
      "execution_count": null,
      "outputs": []
    },
    {
      "cell_type": "code",
      "metadata": {
        "id": "LyFk1WWTH1d8",
        "colab_type": "code",
        "colab": {}
      },
      "source": [
        "%cd Git-Tutorial_Erase\n",
        "!pwd\n",
        "!cp \"/content/drive/My Drive/Colab Notebooks/download/df.csv\" .\n",
        "!ls -l"
      ],
      "execution_count": null,
      "outputs": []
    },
    {
      "cell_type": "code",
      "metadata": {
        "id": "7srQzWUEIcdP",
        "colab_type": "code",
        "colab": {}
      },
      "source": [
        "|"
      ],
      "execution_count": null,
      "outputs": []
    }
  ]
}